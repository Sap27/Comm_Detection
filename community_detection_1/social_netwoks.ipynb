{
 "cells": [
  {
   "cell_type": "code",
   "execution_count": 1,
   "metadata": {},
   "outputs": [],
   "source": [
    "import numpy as np\n",
    "import networkx as nx\n",
    "import pandas as pd\n",
    "import re\n",
    "from collections import defaultdict\n",
    "import time\n",
    "import score_benchmarks\n"
   ]
  },
  {
   "cell_type": "code",
   "execution_count": 2,
   "metadata": {},
   "outputs": [],
   "source": [
    "import community_detection_main"
   ]
  },
  {
   "cell_type": "code",
   "execution_count": 3,
   "metadata": {},
   "outputs": [],
   "source": [
    "G=nx.karate_club_graph()"
   ]
  },
  {
   "cell_type": "code",
   "execution_count": 4,
   "metadata": {},
   "outputs": [
    {
     "data": {
      "text/plain": [
       "EdgeView([(0, 1), (0, 2), (0, 3), (0, 4), (0, 5), (0, 6), (0, 7), (0, 8), (0, 10), (0, 11), (0, 12), (0, 13), (0, 17), (0, 19), (0, 21), (0, 31), (1, 2), (1, 3), (1, 7), (1, 13), (1, 17), (1, 19), (1, 21), (1, 30), (2, 3), (2, 7), (2, 8), (2, 9), (2, 13), (2, 27), (2, 28), (2, 32), (3, 7), (3, 12), (3, 13), (4, 6), (4, 10), (5, 6), (5, 10), (5, 16), (6, 16), (8, 30), (8, 32), (8, 33), (9, 33), (13, 33), (14, 32), (14, 33), (15, 32), (15, 33), (18, 32), (18, 33), (19, 33), (20, 32), (20, 33), (22, 32), (22, 33), (23, 25), (23, 27), (23, 29), (23, 32), (23, 33), (24, 25), (24, 27), (24, 31), (25, 31), (26, 29), (26, 33), (27, 33), (28, 31), (28, 33), (29, 32), (29, 33), (30, 32), (30, 33), (31, 32), (31, 33), (32, 33)])"
      ]
     },
     "execution_count": 4,
     "metadata": {},
     "output_type": "execute_result"
    }
   ],
   "source": [
    "G.edges"
   ]
  },
  {
   "cell_type": "code",
   "execution_count": 5,
   "metadata": {},
   "outputs": [
    {
     "ename": "AttributeError",
     "evalue": "'Graph' object has no attribute 'node'",
     "output_type": "error",
     "traceback": [
      "\u001b[1;31m---------------------------------------------------------------------------\u001b[0m",
      "\u001b[1;31mAttributeError\u001b[0m                            Traceback (most recent call last)",
      "Input \u001b[1;32mIn [5]\u001b[0m, in \u001b[0;36m<cell line: 1>\u001b[1;34m()\u001b[0m\n\u001b[0;32m      1\u001b[0m \u001b[38;5;28;01mfor\u001b[39;00m i \u001b[38;5;129;01min\u001b[39;00m G\u001b[38;5;241m.\u001b[39mnodes:\n\u001b[1;32m----> 2\u001b[0m     \u001b[38;5;28mprint\u001b[39m(\u001b[43mG\u001b[49m\u001b[38;5;241;43m.\u001b[39;49m\u001b[43mnode\u001b[49m[i][\u001b[38;5;124m'\u001b[39m\u001b[38;5;124mclub\u001b[39m\u001b[38;5;124m'\u001b[39m])\n",
      "\u001b[1;31mAttributeError\u001b[0m: 'Graph' object has no attribute 'node'"
     ]
    }
   ],
   "source": [
    "for i in G.nodes:\n",
    "    print(G.node[i]['club'])"
   ]
  },
  {
   "cell_type": "code",
   "execution_count": 6,
   "metadata": {},
   "outputs": [
    {
     "data": {
      "text/plain": [
       "'with open(football_ground_truth_path) as f:\\n    for i in f:\\n        print(i)'"
      ]
     },
     "execution_count": 6,
     "metadata": {},
     "output_type": "execute_result"
    }
   ],
   "source": [
    "football_ground_truth_path='C:/Users/hp/community_detection/Social_networks/football.gml'\n",
    "\"\"\"with open(football_ground_truth_path) as f:\n",
    "    for i in f:\n",
    "        print(i)\"\"\""
   ]
  },
  {
   "cell_type": "code",
   "execution_count": 21,
   "metadata": {},
   "outputs": [],
   "source": [
    "def parse_graph_file(file_path):\n",
    "    with open(file_path, 'r') as file:\n",
    "        content = file.read()\n",
    "\n",
    "    # Find all nodes in the file\n",
    "    nodes = re.findall(r'node\\s+\\[\\s+id\\s+(\\d+)\\s+label\\s+\"([^\"]+)\"\\s+value\\s+(\\d+)\\s+\\]', content)\n",
    "    print(nodes)\n",
    "    # Create a dictionary to store the node information\n",
    "    node_info = {}\n",
    "    for node in nodes:\n",
    "        node_id, label, value = node\n",
    "        node_info[int(node_id)] = {\n",
    "            'label': label,\n",
    "            'value': int(value)\n",
    "        }\n",
    "\n",
    "    return node_info\n",
    "def parse_graph_file1(file_path):\n",
    "    with open(file_path, 'r') as file:\n",
    "        content = file.read()\n",
    "\n",
    "    # Use regex to find all nodes in the file\n",
    "    nodes = re.findall(r'node\\s*\\[\\s*id\\s+(\\d+)\\s+label\\s+\"([^\"]+)\"\\s+value\\s+(\\d+)\\s+source\\s+\"([^\"]+)\"\\s*\\]', content)\n",
    "\n",
    "    # Create a dictionary to store the node information\n",
    "    node_info = {}\n",
    "    for node in nodes:\n",
    "        node_id, label, value, source = node\n",
    "        node_info[int(node_id)] = {\n",
    "            'label': label,\n",
    "            'value': int(value),\n",
    "            'source': source\n",
    "        }\n",
    "\n",
    "    return node_info\n"
   ]
  },
  {
   "cell_type": "code",
   "execution_count": 24,
   "metadata": {},
   "outputs": [],
   "source": [
    "def group_nodes_by_community(file_path,source=False):\n",
    "    if source:\n",
    "        node_info=parse_graph_file1(file_path)\n",
    "    else:\n",
    "        node_info=parse_graph_file(file_path)\n",
    "    communities = defaultdict(list)\n",
    "    \n",
    "    for node_id, info in node_info.items():\n",
    "        communities[info['value']].append(node_id)\n",
    "    community_list = list(communities.values())\n",
    "    \n",
    "    return community_list"
   ]
  },
  {
   "cell_type": "code",
   "execution_count": 9,
   "metadata": {},
   "outputs": [
    {
     "name": "stdout",
     "output_type": "stream",
     "text": [
      "[]\n"
     ]
    }
   ],
   "source": [
    "networks=['astro-dig-weighted','adjnoun','celegansneural','cond-mat','karate','football','dolphins','internet','lesmis-weighted','power','polbooks','polblogs','netscience-weighted','hep-weighted']\n",
    "file_path=f'C:/Users/hp/community_detection/Social_networks/{networks[6]}.gml'\n",
    "ground_truth=group_nodes_by_community(file_path)"
   ]
  },
  {
   "cell_type": "code",
   "execution_count": 10,
   "metadata": {},
   "outputs": [
    {
     "data": {
      "text/plain": [
       "'import pandas as pd\\n\\n# Load the Excel file\\ndf = pd.read_csv(\\'C:/Users/hp/community_detection/Social_networks/git_web_ml/musae_git_edges.csv\\')\\ndf.head()\\n\\n# Convert to text format with tab separation\\nwith open(\\'C:/Users/hp/community_detection/Social_networks/musae_git.txt\\', \\'w\\') as f:\\n    for index, row in df.iterrows():\\n        f.write(f\"{row[\\'id_1\\']}\\t{row[\\'id_2\\']}\\n\")'"
      ]
     },
     "execution_count": 10,
     "metadata": {},
     "output_type": "execute_result"
    }
   ],
   "source": [
    "\"\"\"import pandas as pd\n",
    "\n",
    "# Load the Excel file\n",
    "df = pd.read_csv('C:/Users/hp/community_detection/Social_networks/git_web_ml/musae_git_edges.csv')\n",
    "df.head()\n",
    "\n",
    "# Convert to text format with tab separation\n",
    "with open('C:/Users/hp/community_detection/Social_networks/musae_git.txt', 'w') as f:\n",
    "    for index, row in df.iterrows():\n",
    "        f.write(f\"{row['id_1']}\\t{row['id_2']}\\n\")\"\"\"\n"
   ]
  },
  {
   "cell_type": "code",
   "execution_count": 11,
   "metadata": {},
   "outputs": [],
   "source": [
    "import json\n",
    "\n",
    "# Load the JSON file\n",
    "with open('C:/Users/hp/community_detection/Social_networks/git_web_ml/musae_git_features.json', 'r') as file:\n",
    "    data = json.load(file)\n",
    "\n",
    "# Convert the JSON data to a list of lists\n",
    "communities_g = [community for community in data.values()]\n",
    "\n"
   ]
  },
  {
   "cell_type": "code",
   "execution_count": 12,
   "metadata": {},
   "outputs": [],
   "source": [
    "# Define the path to your text file\n",
    "file_path = 'C:/Users/hp/community_detection/Social_networks/Email bw 1000 people dig ground truth.txt'\n",
    "\n",
    "# Dictionary to store communities\n",
    "communities_dict = {}\n",
    "\n",
    "# Read the file and populate the dictionary\n",
    "with open(file_path, 'r') as file:\n",
    "    for line in file:\n",
    "        node, community_id = map(int, line.split())\n",
    "        if community_id not in communities_dict:\n",
    "            communities_dict[community_id] = []\n",
    "        communities_dict[community_id].append(node)\n",
    "\n",
    "# Convert the dictionary to a list of lists\n",
    "communities_e = list(communities_dict.values())\n",
    "\n",
    "    "
   ]
  },
  {
   "cell_type": "code",
   "execution_count": 13,
   "metadata": {},
   "outputs": [],
   "source": [
    "import re\n",
    "\n",
    "# Define the path to your input and output files\n",
    "input_file_path = 'C:/Users/hp/community_detection/Social_networks/internet.gml'\n",
    "output_file_path ='C:/Users/hp/community_detection/Social_networks/internet_new.txt'\n",
    "\n",
    "# Regular expression patterns for extracting source, target, and value\n",
    "source_pattern = re.compile(r'source\\s+(\\d+)')\n",
    "target_pattern = re.compile(r'target\\s+(\\d+)')\n",
    "#value_pattern = re.compile(r'value\\s+(\\d+)')\n",
    "\n",
    "# Variables to temporarily store the extracted data\n",
    "source = None\n",
    "target = None\n",
    "#value = None\n",
    "\n",
    "# Open the output file for writing\n",
    "with open(output_file_path, 'w') as output_file:\n",
    "    # Open and read the input file\n",
    "    with open(input_file_path, 'r') as input_file:\n",
    "        for line in input_file:\n",
    "            # Search for source, target, and value using regex\n",
    "            source_match = source_pattern.search(line)\n",
    "            target_match = target_pattern.search(line)\n",
    "            #value_match = value_pattern.search(line)\n",
    "\n",
    "            if source_match:\n",
    "                source = int(source_match.group(1))\n",
    "            if target_match:\n",
    "                target = int(target_match.group(1))\n",
    "            \n",
    "                # Write the edge to the output file in the format \"source target value\"\n",
    "                output_file.write(f\"{source}\\t{target}\\n\")\n"
   ]
  },
  {
   "cell_type": "code",
   "execution_count": 14,
   "metadata": {},
   "outputs": [],
   "source": [
    "nmi_scores=np.zeros((16,15))\n",
    "ccbar_scores=np.zeros((16,15))\n",
    "times=np.zeros((16,15))\n",
    "algorithms=['tripleahc','zhenhua','nextmr','blue_genes','tuskdmi','tsuromi-ono','csbio-iitm-lovain','sealangbrown','tianle','big_s2','teamcs_aleph','sim_net','luminex','spectral_clustering','walk_trap','label_propogation']\n"
   ]
  },
  {
   "cell_type": "markdown",
   "metadata": {},
   "source": [
    "# triple ahc"
   ]
  },
  {
   "cell_type": "code",
   "execution_count": 27,
   "metadata": {},
   "outputs": [
    {
     "name": "stdout",
     "output_type": "stream",
     "text": [
      "[('0', 'agreeable', '0'), ('1', 'man', '1'), ('2', 'old', '0'), ('3', 'person', '1'), ('4', 'anything', '1'), ('5', 'short', '0'), ('6', 'arm', '1'), ('7', 'round', '0'), ('8', 'aunt', '1'), ('9', 'first', '0'), ('10', 'bad', '0'), ('11', 'air', '1'), ('12', 'boy', '1'), ('13', 'beautiful', '0'), ('14', 'black', '0'), ('15', 'face', '1'), ('16', 'letter', '1'), ('17', 'little', '0'), ('18', 'young', '0'), ('19', 'best', '0'), ('20', 'course', '1'), ('21', 'friend', '1'), ('22', 'love', '1'), ('23', 'part', '1'), ('24', 'room', '1'), ('25', 'thing', '1'), ('26', 'time', '1'), ('27', 'way', '1'), ('28', 'better', '0'), ('29', 'heart', '1'), ('30', 'mind', '1'), ('31', 'place', '1'), ('32', 'right', '0'), ('33', 'state', '1'), ('34', 'woman', '1'), ('35', 'word', '1'), ('36', 'door', '1'), ('37', 'eye', '1'), ('38', 'bright', '0'), ('39', 'evening', '1'), ('40', 'morning', '1'), ('41', 'certain', '0'), ('42', 'day', '1'), ('43', 'other', '0'), ('44', 'child', '1'), ('45', 'happy', '0'), ('46', 'common', '0'), ('47', 'dark', '0'), ('48', 'kind', '0'), ('49', 'night', '1'), ('50', 'dear', '0'), ('51', 'good', '0'), ('52', 'home', '1'), ('53', 'mother', '1'), ('54', 'pretty', '0'), ('55', 'open', '0'), ('56', 'early', '0'), ('57', 'fire', '1'), ('58', 'full', '0'), ('59', 'great', '0'), ('60', 'master', '1'), ('61', 'moment', '1'), ('62', 'work', '1'), ('63', 'general', '0'), ('64', 'fancy', '0'), ('65', 'voice', '1'), ('66', 'head', '1'), ('67', 'hope', '1'), ('68', 'long', '0'), ('69', 'greater', '0'), ('70', 'hand', '1'), ('71', 'hard', '0'), ('72', 'red', '0'), ('73', 'life', '1'), ('74', 'glad', '0'), ('75', 'large', '0'), ('76', 'new', '0'), ('77', 'white', '0'), ('78', 'late', '0'), ('79', 'whole', '0'), ('80', 'light', '0'), ('81', 'manner', '1'), ('82', 'bed', '1'), ('83', 'house', '1'), ('84', 'low', '0'), ('85', 'money', '1'), ('86', 'ready', '0'), ('87', 'small', '0'), ('88', 'strange', '0'), ('89', 'thought', '1'), ('90', 'lost', '0'), ('91', 'alone', '0'), ('92', 'nothing', '1'), ('93', 'miserable', '0'), ('94', 'natural', '0'), ('95', 'half', '1'), ('96', 'wrong', '0'), ('97', 'name', '1'), ('98', 'pleasant', '0'), ('99', 'possible', '0'), ('100', 'side', '1'), ('101', 'perfect', '0'), ('102', 'poor', '0'), ('103', 'quiet', '0'), ('104', 'same', '0'), ('105', 'strong', '0'), ('106', 'something', '1'), ('107', 'true', '0'), ('108', 'usual', '0'), ('109', 'family', '1'), ('110', 'world', '1'), ('111', 'year', '1')]\n",
      "[('0', 'Beak', '0'), ('1', 'Beescratch', '1'), ('2', 'Bumper', '0'), ('3', 'CCL', '2'), ('4', 'Cross', '3'), ('5', 'DN16', '1'), ('6', 'DN21', '1'), ('7', 'DN63', '1'), ('8', 'Double', '2'), ('9', 'Feather', '1'), ('10', 'Fish', '0'), ('11', 'Five', '3'), ('12', 'Fork', '2'), ('13', 'Gallatin', '1'), ('14', 'Grin', '2'), ('15', 'Haecksel', '3'), ('16', 'Hook', '2'), ('17', 'Jet', '1'), ('18', 'Jonah', '3'), ('19', 'Knit', '1'), ('20', 'Kringel', '2'), ('21', 'MN105', '3'), ('22', 'MN23', '1'), ('23', 'MN60', '3'), ('24', 'MN83', '3'), ('25', 'Mus', '1'), ('26', 'Notch', '1'), ('27', 'Number1', '1'), ('28', 'Oscar', '0'), ('29', 'Patchback', '3'), ('30', 'PL', '0'), ('31', 'Quasi', '1'), ('32', 'Ripplefluke', '1'), ('33', 'Scabs', '2'), ('34', 'Shmuddel', '2'), ('35', 'SMN5', '3'), ('36', 'SN100', '2'), ('37', 'SN4', '2'), ('38', 'SN63', '2'), ('39', 'SN89', '2'), ('40', 'SN9', '2'), ('41', 'SN90', '1'), ('42', 'SN96', '0'), ('43', 'Stripes', '2'), ('44', 'Thumper', '2'), ('45', 'Topless', '3'), ('46', 'TR120', '2'), ('47', 'TR77', '0'), ('48', 'TR82', '1'), ('49', 'TR88', '2'), ('50', 'TR99', '2'), ('51', 'Trigger', '3'), ('52', 'TSN103', '2'), ('53', 'TSN83', '2'), ('54', 'Upbang', '1'), ('55', 'Vau', '3'), ('56', 'Wave', '1'), ('57', 'Web', '1'), ('58', 'Whitetip', '2'), ('59', 'Zap', '2'), ('60', 'Zig', '1'), ('61', 'Zipfel', '2')]\n",
      "[('0', 'BrighamYoung', '7'), ('1', 'FloridaState', '0'), ('2', 'Iowa', '2'), ('3', 'KansasState', '3'), ('4', 'NewMexico', '7'), ('5', 'TexasTech', '3'), ('6', 'PennState', '2'), ('7', 'SouthernCalifornia', '8'), ('8', 'ArizonaState', '8'), ('9', 'SanDiegoState', '7'), ('10', 'Baylor', '3'), ('11', 'NorthTexas', '10'), ('12', 'NorthernIllinois', '6'), ('13', 'Northwestern', '2'), ('14', 'WesternMichigan', '6'), ('15', 'Wisconsin', '2'), ('16', 'Wyoming', '7'), ('17', 'Auburn', '9'), ('18', 'Akron', '6'), ('19', 'VirginiaTech', '1'), ('20', 'Alabama', '9'), ('21', 'UCLA', '8'), ('22', 'Arizona', '8'), ('23', 'Utah', '7'), ('24', 'ArkansasState', '10'), ('25', 'NorthCarolinaState', '0'), ('26', 'BallState', '6'), ('27', 'Florida', '9'), ('28', 'BoiseState', '11'), ('29', 'BostonCollege', '1'), ('30', 'WestVirginia', '1'), ('31', 'BowlingGreenState', '6'), ('32', 'Michigan', '2'), ('33', 'Virginia', '0'), ('34', 'Buffalo', '6'), ('35', 'Syracuse', '1'), ('36', 'CentralFlorida', '5'), ('37', 'GeorgiaTech', '0'), ('38', 'CentralMichigan', '6'), ('39', 'Purdue', '2'), ('40', 'Colorado', '3'), ('41', 'ColoradoState', '7'), ('42', 'Connecticut', '5'), ('43', 'EasternMichigan', '6'), ('44', 'EastCarolina', '4'), ('45', 'Duke', '0'), ('46', 'FresnoState', '11'), ('47', 'OhioState', '2'), ('48', 'Houston', '4'), ('49', 'Rice', '11'), ('50', 'Idaho', '10'), ('51', 'Washington', '8'), ('52', 'Kansas', '3'), ('53', 'SouthernMethodist', '11'), ('54', 'Kent', '6'), ('55', 'Pittsburgh', '1'), ('56', 'Kentucky', '9'), ('57', 'Louisville', '4'), ('58', 'LouisianaTech', '11'), ('59', 'LouisianaMonroe', '10'), ('60', 'Minnesota', '2'), ('61', 'MiamiOhio', '6'), ('62', 'Vanderbilt', '9'), ('63', 'MiddleTennesseeState', '10'), ('64', 'Illinois', '2'), ('65', 'MississippiState', '9'), ('66', 'Memphis', '4'), ('67', 'Nevada', '11'), ('68', 'Oregon', '8'), ('69', 'NewMexicoState', '10'), ('70', 'SouthCarolina', '9'), ('71', 'Ohio', '6'), ('72', 'IowaState', '3'), ('73', 'SanJoseState', '11'), ('74', 'Nebraska', '3'), ('75', 'SouthernMississippi', '4'), ('76', 'Tennessee', '9'), ('77', 'Stanford', '8'), ('78', 'WashingtonState', '8'), ('79', 'Temple', '1'), ('80', 'Navy', '5'), ('81', 'TexasA&M', '3'), ('82', 'NotreDame', '5'), ('83', 'TexasElPaso', '11'), ('84', 'Oklahoma', '3'), ('85', 'Toledo', '6'), ('86', 'Tulane', '4'), ('87', 'Mississippi', '9'), ('88', 'Tulsa', '11'), ('89', 'NorthCarolina', '0'), ('90', 'UtahState', '5'), ('91', 'Army', '4'), ('92', 'Cincinnati', '4'), ('93', 'AirForce', '7'), ('94', 'Rutgers', '1'), ('95', 'Georgia', '9'), ('96', 'LouisianaState', '9'), ('97', 'LouisianaLafayette', '10'), ('98', 'Texas', '3'), ('99', 'Marshall', '6'), ('100', 'MichiganState', '2'), ('101', 'MiamiFlorida', '1'), ('102', 'Missouri', '3'), ('103', 'Clemson', '0'), ('104', 'NevadaLasVegas', '7'), ('105', 'WakeForest', '0'), ('106', 'Indiana', '2'), ('107', 'OklahomaState', '3'), ('108', 'OregonState', '8'), ('109', 'Maryland', '0'), ('110', 'TexasChristian', '4'), ('111', 'California', '8'), ('112', 'AlabamaBirmingham', '4'), ('113', 'Arkansas', '9'), ('114', 'Hawaii', '11')]\n",
      "[]\n",
      "[]\n",
      "[('0', '1000 Years for Revenge', '0'), ('1', 'Bush vs. the Beltway', '1'), ('2', \"Charlie Wilson's War\", '1'), ('3', 'Losing Bin Laden', '1'), ('4', 'Sleeping With the Devil', '0'), ('5', 'The Man Who Warned America', '1'), ('6', 'Why America Slept', '0'), ('7', 'Ghost Wars', '0'), ('8', 'A National Party No More', '1'), ('9', 'Bush Country', '1'), ('10', 'Dereliction of Duty', '1'), ('11', 'Legacy', '1'), ('12', 'Off with Their Heads', '1'), ('13', 'Persecution', '1'), ('14', \"Rumsfeld's War\", '1'), ('15', 'Breakdown', '1'), ('16', 'Betrayal', '1'), ('17', 'Shut Up and Sing', '1'), ('18', 'Meant To Be', '0'), ('19', 'The Right Man', '1'), ('20', 'Ten Minutes from Normal', '1'), ('21', \"Hillary's Scheme\", '1'), ('22', 'The French Betrayal of America', '1'), ('23', 'Tales from the Left Coast', '1'), ('24', 'Hating America', '1'), ('25', 'The Third Terrorist', '1'), ('26', 'Endgame', '1'), ('27', 'Spin Sisters', '1'), ('28', \"All the Shah's Men\", '0'), ('29', 'Dangerous Dimplomacy', '1'), ('30', 'The Price of Loyalty', '2'), ('31', 'House of Bush, House of Saud', '2'), ('32', 'The Death of Right and Wrong', '1'), ('33', 'Useful Idiots', '1'), ('34', \"The O'Reilly Factor\", '1'), ('35', 'Let Freedom Ring', '1'), ('36', 'Those Who Trespass', '1'), ('37', 'Bias', '1'), ('38', 'Slander', '1'), ('39', 'The Savage Nation', '1'), ('40', 'Deliver Us from Evil', '1'), ('41', 'Give Me a Break', '1'), ('42', 'The Enemy Within', '1'), ('43', 'The Real America', '1'), ('44', \"Who's Looking Out for You?\", '1'), ('45', 'The Official Handbook Vast Right Wing Conspiracy', '1'), ('46', 'Power Plays', '0'), ('47', 'Arrogance', '1'), ('48', 'The Perfect Wife', '0'), ('49', 'The Bushes', '1'), ('50', 'Things Worth Fighting For', '1'), ('51', 'Surprise, Security, the American Experience', '0'), ('52', 'Allies', '1'), ('53', 'Why Courage Matters', '1'), ('54', 'Hollywood Interrupted', '1'), ('55', 'Fighting Back', '1'), ('56', 'We Will Prevail', '1'), ('57', 'The Faith of George W Bush', '1'), ('58', 'Rise of the Vulcans', '1'), ('59', 'Downsize This!', '2'), ('60', 'Stupid White Men', '2'), ('61', 'Rush Limbaugh Is a Big Fat Idiot', '2'), ('62', 'The Best Democracy Money Can Buy', '2'), ('63', 'The Culture of Fear', '2'), ('64', 'America Unbound', '2'), ('65', 'The Choice', '2'), ('66', 'The Great Unraveling', '2'), ('67', 'Rogue Nation', '2'), ('68', 'Soft Power', '2'), ('69', 'Colossus', '0'), ('70', 'The Sorrows of Empire', '2'), ('71', 'Against All Enemies', '2'), ('72', 'American Dynasty', '2'), ('73', 'Big Lies', '2'), ('74', 'The Lies of George W. Bush', '2'), ('75', 'Worse Than Watergate', '2'), ('76', 'Plan of Attack', '0'), ('77', 'Bush at War', '1'), ('78', 'The New Pearl Harbor', '2'), ('79', 'Bushwomen', '2'), ('80', 'The Bubble of American Supremacy', '2'), ('81', 'Living History', '2'), ('82', 'The Politics of Truth', '2'), ('83', 'Fanatics and Fools', '2'), ('84', 'Bushwhacked', '2'), ('85', 'Disarming Iraq', '2'), ('86', 'Lies and the Lying Liars Who Tell Them', '2'), ('87', \"MoveOn's 50 Ways to Love Your Country\", '2'), ('88', 'The Buying of the President 2004', '2'), ('89', 'Perfectly Legal', '2'), ('90', 'Hegemony or Survival', '2'), ('91', 'The Exception to the Rulers', '2'), ('92', 'Freethinkers', '2'), ('93', 'Had Enough?', '2'), ('94', \"It's Still the Economy, Stupid!\", '2'), ('95', \"We're Right They're Wrong\", '2'), ('96', 'What Liberal Media?', '2'), ('97', 'The Clinton Wars', '2'), ('98', 'Weapons of Mass Deception', '2'), ('99', \"Dude, Where's My Country?\", '2'), ('100', 'Thieves in High Places', '2'), ('101', 'Shrub', '2'), ('102', 'Buck Up Suck Up', '2'), ('103', 'The Future of Freedom', '0'), ('104', 'Empire', '0')]\n",
      "[]\n"
     ]
    }
   ],
   "source": [
    "networks_1=['adjnoun','dolphins','football','karate','polbooks','polblogs','Email bw 1000 people dig','musae-git']\n",
    "networks_1_=['internet','power']\n",
    "networks_2=['cond-mat-weighted','lesmis-weighted','hep-weighted','netscience-weighted']\n",
    "networks_4=['celegansneural']\n",
    "root_directory='C:/Users/hp/community_detection/Social_networks/'\n",
    "#networks_3=['']\n",
    "ground_truths_1=[group_nodes_by_community(f'{root_directory}{networks_1[i]}.gml') if i!=5 else group_nodes_by_community(f'{root_directory}{networks_1[i]}.gml',source=True)  for i in range(len(networks_1)-2)]\n",
    "ground_truths_1.append(communities_e)\n",
    "ground_truths_1.append(communities_g)\n",
    "\n",
    "#triple_ahc(t1=0.1,t2=1000,weighted=True,directed=False,network_file='',G=None)"
   ]
  },
  {
   "cell_type": "code",
   "execution_count": 28,
   "metadata": {},
   "outputs": [
    {
     "name": "stdout",
     "output_type": "stream",
     "text": [
      "3\n",
      "4\n",
      "7\n"
     ]
    }
   ],
   "source": [
    "for i in range(len(ground_truths_1)):\n",
    "    if ground_truths_1[i]==[]:\n",
    "        print(i)"
   ]
  },
  {
   "cell_type": "code",
   "execution_count": 17,
   "metadata": {},
   "outputs": [
    {
     "data": {
      "text/plain": [
       "[[0, 4, 6, 7, 18, 28, 46, 48, 51, 69, 76, 103, 104],\n",
       " [1,\n",
       "  2,\n",
       "  3,\n",
       "  5,\n",
       "  8,\n",
       "  9,\n",
       "  10,\n",
       "  11,\n",
       "  12,\n",
       "  13,\n",
       "  14,\n",
       "  15,\n",
       "  16,\n",
       "  17,\n",
       "  19,\n",
       "  20,\n",
       "  21,\n",
       "  22,\n",
       "  23,\n",
       "  24,\n",
       "  25,\n",
       "  26,\n",
       "  27,\n",
       "  29,\n",
       "  32,\n",
       "  33,\n",
       "  34,\n",
       "  35,\n",
       "  36,\n",
       "  37,\n",
       "  38,\n",
       "  39,\n",
       "  40,\n",
       "  41,\n",
       "  42,\n",
       "  43,\n",
       "  44,\n",
       "  45,\n",
       "  47,\n",
       "  49,\n",
       "  50,\n",
       "  52,\n",
       "  53,\n",
       "  54,\n",
       "  55,\n",
       "  56,\n",
       "  57,\n",
       "  58,\n",
       "  77],\n",
       " [30,\n",
       "  31,\n",
       "  59,\n",
       "  60,\n",
       "  61,\n",
       "  62,\n",
       "  63,\n",
       "  64,\n",
       "  65,\n",
       "  66,\n",
       "  67,\n",
       "  68,\n",
       "  70,\n",
       "  71,\n",
       "  72,\n",
       "  73,\n",
       "  74,\n",
       "  75,\n",
       "  78,\n",
       "  79,\n",
       "  80,\n",
       "  81,\n",
       "  82,\n",
       "  83,\n",
       "  84,\n",
       "  85,\n",
       "  86,\n",
       "  87,\n",
       "  88,\n",
       "  89,\n",
       "  90,\n",
       "  91,\n",
       "  92,\n",
       "  93,\n",
       "  94,\n",
       "  95,\n",
       "  96,\n",
       "  97,\n",
       "  98,\n",
       "  99,\n",
       "  100,\n",
       "  101,\n",
       "  102]]"
      ]
     },
     "execution_count": 17,
     "metadata": {},
     "output_type": "execute_result"
    }
   ],
   "source": [
    "ground_truths_1[6]"
   ]
  },
  {
   "cell_type": "code",
   "execution_count": 18,
   "metadata": {},
   "outputs": [],
   "source": [
    "def process_network_file(network_file,weighted=True,directed=False):\n",
    "    if weighted:\n",
    "        if directed:\n",
    "            G=nx.read_edgelist(network_file, data=(('weight', float),), nodetype=int,create_using=nx.DiGraph())\n",
    "        else:\n",
    "            G=nx.read_edgelist(network_file, data=(('weight', float),), nodetype=int)\n",
    "    else:\n",
    "        if directed:\n",
    "            G=nx.read_edgelist(network_file, nodetype=int,create_using=nx.DiGraph())\n",
    "        else:\n",
    "            G=nx.read_edgelist(network_file, nodetype=int)\n",
    "    #print(G.nodes)\n",
    "    return G"
   ]
  },
  {
   "cell_type": "code",
   "execution_count": 19,
   "metadata": {},
   "outputs": [
    {
     "data": {
      "text/plain": [
       "NodeView((0, 1, 2, 3, 4, 5, 6, 7, 8, 9, 10, 11, 12, 13, 14, 15, 16, 17, 18, 19, 20, 21, 22, 23, 24, 25, 26, 27, 28, 29, 30, 31, 32, 33))"
      ]
     },
     "execution_count": 19,
     "metadata": {},
     "output_type": "execute_result"
    }
   ],
   "source": [
    "G.nodes"
   ]
  },
  {
   "cell_type": "code",
   "execution_count": 20,
   "metadata": {},
   "outputs": [
    {
     "name": "stdout",
     "output_type": "stream",
     "text": [
      "0\n",
      "Error running R script: \n"
     ]
    },
    {
     "ename": "UnboundLocalError",
     "evalue": "local variable 'communities' referenced before assignment",
     "output_type": "error",
     "traceback": [
      "\u001b[1;31m---------------------------------------------------------------------------\u001b[0m",
      "\u001b[1;31mUnboundLocalError\u001b[0m                         Traceback (most recent call last)",
      "Input \u001b[1;32mIn [20]\u001b[0m, in \u001b[0;36m<cell line: 2>\u001b[1;34m()\u001b[0m\n\u001b[0;32m      5\u001b[0m G\u001b[38;5;241m=\u001b[39mprocess_network_file(network_file_curr,weighted\u001b[38;5;241m=\u001b[39m\u001b[38;5;28;01mFalse\u001b[39;00m,directed\u001b[38;5;241m=\u001b[39m\u001b[38;5;28;01mFalse\u001b[39;00m)\n\u001b[0;32m      6\u001b[0m t1\u001b[38;5;241m=\u001b[39mtime\u001b[38;5;241m.\u001b[39mtime()\n\u001b[1;32m----> 7\u001b[0m pc\u001b[38;5;241m=\u001b[39m\u001b[43mcommunity_detection_main\u001b[49m\u001b[38;5;241;43m.\u001b[39;49m\u001b[43mtriple_ahc\u001b[49m\u001b[43m(\u001b[49m\u001b[43mt1\u001b[49m\u001b[38;5;241;43m=\u001b[39;49m\u001b[38;5;241;43m0.1\u001b[39;49m\u001b[43m,\u001b[49m\u001b[43mt2\u001b[49m\u001b[38;5;241;43m=\u001b[39;49m\u001b[38;5;241;43m1000\u001b[39;49m\u001b[43m,\u001b[49m\u001b[43mweighted\u001b[49m\u001b[38;5;241;43m=\u001b[39;49m\u001b[38;5;28;43;01mFalse\u001b[39;49;00m\u001b[43m,\u001b[49m\u001b[43mdirected\u001b[49m\u001b[38;5;241;43m=\u001b[39;49m\u001b[38;5;28;43;01mFalse\u001b[39;49;00m\u001b[43m,\u001b[49m\u001b[43mnetwork_file\u001b[49m\u001b[38;5;241;43m=\u001b[39;49m\u001b[43mnetwork_file_curr\u001b[49m\u001b[43m,\u001b[49m\u001b[43mG\u001b[49m\u001b[38;5;241;43m=\u001b[39;49m\u001b[38;5;28;43;01mNone\u001b[39;49;00m\u001b[43m)\u001b[49m\n\u001b[0;32m      8\u001b[0m t2\u001b[38;5;241m=\u001b[39mtime\u001b[38;5;241m.\u001b[39mtime()\n\u001b[0;32m      9\u001b[0m nmi_scores[\u001b[38;5;241m0\u001b[39m][i]\u001b[38;5;241m=\u001b[39mscore_benchmarks\u001b[38;5;241m.\u001b[39mnmi_score(ground_truths_1[i],pc)\n",
      "File \u001b[1;32mc:\\Users\\hp\\community_detection\\community_detection_main.py:97\u001b[0m, in \u001b[0;36mtriple_ahc\u001b[1;34m(t1, t2, weighted, directed, network_file, G)\u001b[0m\n\u001b[0;32m     95\u001b[0m     \u001b[38;5;66;03m#print(communities)\u001b[39;00m\n\u001b[0;32m     96\u001b[0m os\u001b[38;5;241m.\u001b[39mremove(json_file_path)\n\u001b[1;32m---> 97\u001b[0m \u001b[38;5;28;01mreturn\u001b[39;00m [[\u001b[38;5;28mint\u001b[39m(i) \u001b[38;5;28;01mfor\u001b[39;00m i \u001b[38;5;129;01min\u001b[39;00m j] \u001b[38;5;28;01mfor\u001b[39;00m j \u001b[38;5;129;01min\u001b[39;00m \u001b[43mcommunities\u001b[49m]\n",
      "\u001b[1;31mUnboundLocalError\u001b[0m: local variable 'communities' referenced before assignment"
     ]
    }
   ],
   "source": [
    "\n",
    "#triple_ahc(t1=0.1,t2=1000,weighted=True,directed=False,network_file='',G=None)\n",
    "for i in range(len(networks_1)):\n",
    "    network_file_curr=f'{root_directory}{networks_1[i]}.txt'\n",
    "    print(i)\n",
    "    G=process_network_file(network_file_curr,weighted=False,directed=False)\n",
    "    t1=time.time()\n",
    "    pc=community_detection_main.triple_ahc(t1=0.1,t2=1000,weighted=False,directed=False,network_file=network_file_curr,G=None)\n",
    "    t2=time.time()\n",
    "    nmi_scores[0][i]=score_benchmarks.nmi_score(ground_truths_1[i],pc)\n",
    "    times[0][i]=t\n",
    "    ccbar_scores[0][i]=len(pc)/len(ground_truths_1[i])"
   ]
  },
  {
   "cell_type": "code",
   "execution_count": null,
   "metadata": {},
   "outputs": [
    {
     "data": {
      "text/plain": [
       "0"
      ]
     },
     "execution_count": 48,
     "metadata": {},
     "output_type": "execute_result"
    }
   ],
   "source": [
    "i"
   ]
  }
 ],
 "metadata": {
  "kernelspec": {
   "display_name": "Python 3",
   "language": "python",
   "name": "python3"
  },
  "language_info": {
   "codemirror_mode": {
    "name": "ipython",
    "version": 3
   },
   "file_extension": ".py",
   "mimetype": "text/x-python",
   "name": "python",
   "nbconvert_exporter": "python",
   "pygments_lexer": "ipython3",
   "version": "3.10.4"
  }
 },
 "nbformat": 4,
 "nbformat_minor": 2
}
